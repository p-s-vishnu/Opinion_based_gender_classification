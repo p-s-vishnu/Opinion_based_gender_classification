{
  "nbformat": 4,
  "nbformat_minor": 0,
  "metadata": {
    "colab": {
      "name": "kernel.ipynb",
      "version": "0.3.2",
      "provenance": [],
      "include_colab_link": true
    },
    "kernelspec": {
      "display_name": "Python 3",
      "language": "python",
      "name": "python3"
    }
  },
  "cells": [
    {
      "cell_type": "markdown",
      "metadata": {
        "id": "view-in-github",
        "colab_type": "text"
      },
      "source": [
        "[View in Colaboratory](https://colab.research.google.com/github/p-s-vishnu/Opinion_based_gender_classification/blob/master/kernel.ipynb)"
      ]
    },
    {
      "metadata": {
        "id": "JXGR5LTur0_6",
        "colab_type": "text"
      },
      "cell_type": "markdown",
      "source": [
        "# Analyzing the dataset"
      ]
    },
    {
      "metadata": {
        "id": "37BoGwZQr0_9",
        "colab_type": "text"
      },
      "cell_type": "markdown",
      "source": [
        "## 1. Importing Data"
      ]
    },
    {
      "metadata": {
        "id": "VG3ImkKRr1AA",
        "colab_type": "code",
        "colab": {}
      },
      "cell_type": "code",
      "source": [
        "import numpy as np\n",
        "import pandas as pd\n",
        "import matplotlib.pyplot as plt\n",
        "import seaborn as sns\n",
        "\n",
        "import os\n",
        "print(os.listdir('../input'))"
      ],
      "execution_count": 0,
      "outputs": []
    },
    {
      "metadata": {
        "id": "TKmesaC0r1AR",
        "colab_type": "code",
        "colab": {}
      },
      "cell_type": "code",
      "source": [
        "data = pd.read_csv('../input/Transformed Data Set - Sheet1.csv');"
      ],
      "execution_count": 0,
      "outputs": []
    },
    {
      "metadata": {
        "id": "P0UXEjR2r1Ad",
        "colab_type": "code",
        "colab": {}
      },
      "cell_type": "code",
      "source": [
        "data.sample(3)"
      ],
      "execution_count": 0,
      "outputs": []
    },
    {
      "metadata": {
        "id": "y83dm1Fnr1Ak",
        "colab_type": "code",
        "colab": {}
      },
      "cell_type": "code",
      "source": [
        "data.info()"
      ],
      "execution_count": 0,
      "outputs": []
    },
    {
      "metadata": {
        "id": "Ev0HX4f0r1At",
        "colab_type": "text"
      },
      "cell_type": "markdown",
      "source": [
        "## 2. Visualization"
      ]
    },
    {
      "metadata": {
        "id": "4eQHtptMr1Av",
        "colab_type": "text"
      },
      "cell_type": "markdown",
      "source": [
        "For visualization, I will use count plots because all my plots will involve two categorical variables."
      ]
    },
    {
      "metadata": {
        "id": "i6knr0wdr1Ax",
        "colab_type": "code",
        "colab": {}
      },
      "cell_type": "code",
      "source": [
        "# sns.countplot('Gender', data=data, palette='Greens') # Just like 'Greens', there's also 'Reds', 'Purples' etc... Also, you can append to any of these _r which means reverse or _d which means dark.\n",
        "data['Gender'].value_counts().plot.pie(explode=[0,0.1], shadow=True)"
      ],
      "execution_count": 0,
      "outputs": []
    },
    {
      "metadata": {
        "id": "fJlgXm-Pr1A3",
        "colab_type": "code",
        "colab": {}
      },
      "cell_type": "code",
      "source": [
        "sns.countplot('Favorite Color', hue='Gender', data=data, palette='Greens')"
      ],
      "execution_count": 0,
      "outputs": []
    },
    {
      "metadata": {
        "id": "1uKUhvpHr1A-",
        "colab_type": "text"
      },
      "cell_type": "markdown",
      "source": [
        "The data suggests that there might be a female preference for warmer colors and a tendency for males to prefer cooler colors."
      ]
    },
    {
      "metadata": {
        "id": "H2ziBVb4r1BA",
        "colab_type": "code",
        "colab": {}
      },
      "cell_type": "code",
      "source": [
        "sns.countplot(y='Favorite Music Genre', hue='Gender', data=data, palette='Greens');"
      ],
      "execution_count": 0,
      "outputs": []
    },
    {
      "metadata": {
        "id": "aQa9j6bLr1BT",
        "colab_type": "text"
      },
      "cell_type": "markdown",
      "source": [
        "The data seems to indicate that females might prefer rock, jazz/blues and pop over males, who might prefer R&B/soul, electronic and hip hop music."
      ]
    },
    {
      "metadata": {
        "id": "vqqHN3Ecr1BV",
        "colab_type": "code",
        "colab": {}
      },
      "cell_type": "code",
      "source": [
        "sns.countplot('Favorite Beverage', hue='Gender', data=data, palette='Greens');"
      ],
      "execution_count": 0,
      "outputs": []
    },
    {
      "metadata": {
        "id": "D6rzn-NSr1Bl",
        "colab_type": "text"
      },
      "cell_type": "markdown",
      "source": [
        "It seems that people who don't drink are more likely to be males. If this is true, one potential explanation is that people who don't drink usually belong to conservative families and that I was more likely to come across a male than a female participant from a conservative family."
      ]
    },
    {
      "metadata": {
        "id": "n3vIKucFr1Bn",
        "colab_type": "code",
        "colab": {}
      },
      "cell_type": "code",
      "source": [
        "sns.countplot(y='Favorite Soft Drink', hue='Gender', data=data, palette='Greens');"
      ],
      "execution_count": 0,
      "outputs": []
    },
    {
      "metadata": {
        "id": "Heg1mS5-r1B5",
        "colab_type": "text"
      },
      "cell_type": "markdown",
      "source": [
        "It might be the case that 7UP/Sprite is more popular with females while Fanta is more popular with males."
      ]
    },
    {
      "metadata": {
        "id": "YOfy7d2ir1B6",
        "colab_type": "text"
      },
      "cell_type": "markdown",
      "source": [
        "## 3. Conclusion"
      ]
    },
    {
      "metadata": {
        "id": "6JkbudAIr1B-",
        "colab_type": "text"
      },
      "cell_type": "markdown",
      "source": [
        "The data indicates that there is a potential for discovering statistically significant patterns in male and female preferences. It justifies obtaining a larger dataset and applying statistical models."
      ]
    }
  ]
}